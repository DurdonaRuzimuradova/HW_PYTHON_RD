{
 "cells": [
  {
   "cell_type": "code",
   "execution_count": 1,
   "metadata": {},
   "outputs": [],
   "source": [
    "#1. Import the numpy package under the name np (★☆☆)\n",
    "import numpy as np"
   ]
  },
  {
   "cell_type": "code",
   "execution_count": 2,
   "metadata": {},
   "outputs": [
    {
     "name": "stdout",
     "output_type": "stream",
     "text": [
      "2.2.2\n",
      "Build Dependencies:\n",
      "  blas:\n",
      "    detection method: pkgconfig\n",
      "    found: true\n",
      "    include directory: C:/Users/runneradmin/AppData/Local/Temp/cibw-run-_1vgc7re/cp312-win_amd64/build/venv/Lib/site-packages/scipy_openblas64/include\n",
      "    lib directory: C:/Users/runneradmin/AppData/Local/Temp/cibw-run-_1vgc7re/cp312-win_amd64/build/venv/Lib/site-packages/scipy_openblas64/lib\n",
      "    name: scipy-openblas\n",
      "    openblas configuration: OpenBLAS 0.3.28  USE64BITINT DYNAMIC_ARCH NO_AFFINITY\n",
      "      Haswell MAX_THREADS=24\n",
      "    pc file directory: D:/a/numpy/numpy/.openblas\n",
      "    version: 0.3.28\n",
      "  lapack:\n",
      "    detection method: pkgconfig\n",
      "    found: true\n",
      "    include directory: C:/Users/runneradmin/AppData/Local/Temp/cibw-run-_1vgc7re/cp312-win_amd64/build/venv/Lib/site-packages/scipy_openblas64/include\n",
      "    lib directory: C:/Users/runneradmin/AppData/Local/Temp/cibw-run-_1vgc7re/cp312-win_amd64/build/venv/Lib/site-packages/scipy_openblas64/lib\n",
      "    name: scipy-openblas\n",
      "    openblas configuration: OpenBLAS 0.3.28  USE64BITINT DYNAMIC_ARCH NO_AFFINITY\n",
      "      Haswell MAX_THREADS=24\n",
      "    pc file directory: D:/a/numpy/numpy/.openblas\n",
      "    version: 0.3.28\n",
      "Compilers:\n",
      "  c:\n",
      "    commands: cl\n",
      "    linker: link\n",
      "    name: msvc\n",
      "    version: 19.29.30157\n",
      "  c++:\n",
      "    commands: cl\n",
      "    linker: link\n",
      "    name: msvc\n",
      "    version: 19.29.30157\n",
      "  cython:\n",
      "    commands: cython\n",
      "    linker: cython\n",
      "    name: cython\n",
      "    version: 3.0.11\n",
      "Machine Information:\n",
      "  build:\n",
      "    cpu: x86_64\n",
      "    endian: little\n",
      "    family: x86_64\n",
      "    system: windows\n",
      "  host:\n",
      "    cpu: x86_64\n",
      "    endian: little\n",
      "    family: x86_64\n",
      "    system: windows\n",
      "Python Information:\n",
      "  path: C:\\Users\\runneradmin\\AppData\\Local\\Temp\\build-env-e_e39y2o\\Scripts\\python.exe\n",
      "  version: '3.12'\n",
      "SIMD Extensions:\n",
      "  baseline:\n",
      "  - SSE\n",
      "  - SSE2\n",
      "  - SSE3\n",
      "  found:\n",
      "  - SSSE3\n",
      "  - SSE41\n",
      "  - POPCNT\n",
      "  - SSE42\n",
      "  - AVX\n",
      "  - F16C\n",
      "  - FMA3\n",
      "  - AVX2\n",
      "  not found:\n",
      "  - AVX512F\n",
      "  - AVX512CD\n",
      "  - AVX512_SKX\n",
      "  - AVX512_CLX\n",
      "  - AVX512_CNL\n",
      "  - AVX512_ICL\n",
      "\n"
     ]
    }
   ],
   "source": [
    "#2. Print the numpy version and the configuration (★☆☆)\n",
    "print(np.__version__)\n",
    "np.show_config()\n"
   ]
  },
  {
   "cell_type": "code",
   "execution_count": 4,
   "metadata": {},
   "outputs": [
    {
     "data": {
      "text/plain": [
       "array([0., 0., 0., 0., 0., 0., 0., 0., 0., 0.])"
      ]
     },
     "execution_count": 4,
     "metadata": {},
     "output_type": "execute_result"
    }
   ],
   "source": [
    "#3. Create a null vector of size 10\n",
    "np.zeros(10)"
   ]
  },
  {
   "cell_type": "code",
   "execution_count": 15,
   "metadata": {},
   "outputs": [
    {
     "name": "stdout",
     "output_type": "stream",
     "text": [
      "160 bytes\n",
      "20 bytes\n",
      "8 bytes\n"
     ]
    }
   ],
   "source": [
    "#4. How to find the memory size of any array\n",
    "my_array=np.zeros((5,4))\n",
    "print(f\"{my_array.size*my_array.itemsize} bytes\")"
   ]
  },
  {
   "cell_type": "code",
   "execution_count": 17,
   "metadata": {},
   "outputs": [
    {
     "name": "stdout",
     "output_type": "stream",
     "text": [
      "add(x1, x2, /, out=None, *, where=True, casting='same_kind', order='K', dtype=None, subok=True[, signature])\n",
      "\n",
      "Add arguments element-wise.\n",
      "\n",
      "Parameters\n",
      "----------\n",
      "x1, x2 : array_like\n",
      "    The arrays to be added.\n",
      "    If ``x1.shape != x2.shape``, they must be broadcastable to a common\n",
      "    shape (which becomes the shape of the output).\n",
      "out : ndarray, None, or tuple of ndarray and None, optional\n",
      "    A location into which the result is stored. If provided, it must have\n",
      "    a shape that the inputs broadcast to. If not provided or None,\n",
      "    a freshly-allocated array is returned. A tuple (possible only as a\n",
      "    keyword argument) must have length equal to the number of outputs.\n",
      "where : array_like, optional\n",
      "    This condition is broadcast over the input. At locations where the\n",
      "    condition is True, the `out` array will be set to the ufunc result.\n",
      "    Elsewhere, the `out` array will retain its original value.\n",
      "    Note that if an uninitialized `out` array is created via the default\n",
      "    ``out=None``, locations within it where the condition is False will\n",
      "    remain uninitialized.\n",
      "**kwargs\n",
      "    For other keyword-only arguments, see the\n",
      "    :ref:`ufunc docs <ufuncs.kwargs>`.\n",
      "\n",
      "Returns\n",
      "-------\n",
      "add : ndarray or scalar\n",
      "    The sum of `x1` and `x2`, element-wise.\n",
      "    This is a scalar if both `x1` and `x2` are scalars.\n",
      "\n",
      "Notes\n",
      "-----\n",
      "Equivalent to `x1` + `x2` in terms of array broadcasting.\n",
      "\n",
      "Examples\n",
      "--------\n",
      ">>> import numpy as np\n",
      ">>> np.add(1.0, 4.0)\n",
      "5.0\n",
      ">>> x1 = np.arange(9.0).reshape((3, 3))\n",
      ">>> x2 = np.arange(3.0)\n",
      ">>> np.add(x1, x2)\n",
      "array([[  0.,   2.,   4.],\n",
      "       [  3.,   5.,   7.],\n",
      "       [  6.,   8.,  10.]])\n",
      "\n",
      "The ``+`` operator can be used as a shorthand for ``np.add`` on ndarrays.\n",
      "\n",
      ">>> x1 = np.arange(9.0).reshape((3, 3))\n",
      ">>> x2 = np.arange(3.0)\n",
      ">>> x1 + x2\n",
      "array([[ 0.,  2.,  4.],\n",
      "       [ 3.,  5.,  7.],\n",
      "       [ 6.,  8., 10.]])\n"
     ]
    }
   ],
   "source": [
    "#5. How to get the documentation of the numpy add function from the command line?\n",
    "np.info(np.add)\n",
    "# In cmd: python -c \"import numpy; numpy.info(numpy.add)"
   ]
  },
  {
   "cell_type": "code",
   "execution_count": 18,
   "metadata": {},
   "outputs": [
    {
     "name": "stdout",
     "output_type": "stream",
     "text": [
      "[0. 0. 0. 0. 1. 0. 0. 0. 0. 0.]\n"
     ]
    }
   ],
   "source": [
    "#6. Create a null vector of size 10 but the fifth value which is 1\n",
    "my_array=np.zeros(10)\n",
    "my_array[4]=1\n",
    "print(my_array)"
   ]
  },
  {
   "cell_type": "code",
   "execution_count": 20,
   "metadata": {},
   "outputs": [
    {
     "name": "stdout",
     "output_type": "stream",
     "text": [
      "[10 11 12 13 14 15 16 17 18 19 20 21 22 23 24 25 26 27 28 29 30 31 32 33\n",
      " 34 35 36 37 38 39 40 41 42 43 44 45 46 47 48 49]\n"
     ]
    }
   ],
   "source": [
    "#7. Create a vector with values ranging from 10 to 49\n",
    "my_array=np.arange(10,50)\n",
    "print(my_array)\n"
   ]
  },
  {
   "cell_type": "code",
   "execution_count": 24,
   "metadata": {},
   "outputs": [
    {
     "name": "stdout",
     "output_type": "stream",
     "text": [
      "[29 28 27 26 25 24 23 22 21 20 19 18 17 16 15 14 13 12 11 10  9  8  7  6\n",
      "  5  4  3  2  1  0]\n"
     ]
    }
   ],
   "source": [
    "#8. Reverse a vector (first element becomes last)\n",
    "my_array=np.arange(30)\n",
    "reverse=my_array[::-1]\n",
    "print(reverse)"
   ]
  },
  {
   "cell_type": "code",
   "execution_count": 27,
   "metadata": {},
   "outputs": [
    {
     "name": "stdout",
     "output_type": "stream",
     "text": [
      "[[0 1 2]\n",
      " [3 4 5]\n",
      " [6 7 8]]\n"
     ]
    }
   ],
   "source": [
    "#9. Create a 3x3 matrix with values ranging from 0 to 8\n",
    "my_array=np.arange(0,9).reshape(3,3)\n",
    "print(my_array)"
   ]
  },
  {
   "cell_type": "code",
   "execution_count": 33,
   "metadata": {},
   "outputs": [
    {
     "name": "stdout",
     "output_type": "stream",
     "text": [
      "(array([0, 1, 4]),)\n"
     ]
    }
   ],
   "source": [
    "#10. Find indices of non-zero elements from [1,2,0,0,4,0] \n",
    "my_array=np.array([1,2,0,0,4,0])\n",
    "index=np.nonzero(my_array)\n",
    "print(index)"
   ]
  },
  {
   "cell_type": "code",
   "execution_count": 37,
   "metadata": {},
   "outputs": [
    {
     "name": "stdout",
     "output_type": "stream",
     "text": [
      "[[1. 0. 0.]\n",
      " [0. 1. 0.]\n",
      " [0. 0. 1.]]\n"
     ]
    }
   ],
   "source": [
    "#11. Create a 3x3 identity matrix\n",
    "iden_matrix=np.eye(3,3)\n",
    "print(iden_matrix)"
   ]
  },
  {
   "cell_type": "code",
   "execution_count": 41,
   "metadata": {},
   "outputs": [
    {
     "data": {
      "text/plain": [
       "array([[[0.18219713, 0.47667413, 0.63493722],\n",
       "        [0.45508574, 0.57324608, 0.49668564],\n",
       "        [0.46486344, 0.9576273 , 0.54069794]],\n",
       "\n",
       "       [[0.86209086, 0.29382238, 0.34288264],\n",
       "        [0.75591257, 0.42834007, 0.0717534 ],\n",
       "        [0.16488454, 0.15714137, 0.83407446]],\n",
       "\n",
       "       [[0.30934816, 0.62480892, 0.22921255],\n",
       "        [0.85454004, 0.06592188, 0.52801021],\n",
       "        [0.62903551, 0.10918157, 0.08403858]]])"
      ]
     },
     "execution_count": 41,
     "metadata": {},
     "output_type": "execute_result"
    }
   ],
   "source": [
    "#12. Create a 3x3x3 array with random values\n",
    "my_array=np.random.random((3,3,3))\n",
    "my_array"
   ]
  },
  {
   "cell_type": "code",
   "execution_count": 44,
   "metadata": {},
   "outputs": [
    {
     "name": "stdout",
     "output_type": "stream",
     "text": [
      "[[0.80290201 0.54710177 0.49609637 0.59157626 0.38936019 0.17004867\n",
      "  0.35584759 0.16453786 0.63113513 0.46528339]\n",
      " [0.67651771 0.27810648 0.11757779 0.45612076 0.6267077  0.9542766\n",
      "  0.4054014  0.82325301 0.49270327 0.27533102]\n",
      " [0.81812513 0.28917643 0.7998204  0.64176223 0.56895707 0.99597744\n",
      "  0.96177902 0.30861939 0.22990432 0.3086552 ]\n",
      " [0.399949   0.3320359  0.71035962 0.31709504 0.47144636 0.41199105\n",
      "  0.75840703 0.44634802 0.67983446 0.29312359]\n",
      " [0.34683693 0.15671643 0.01573863 0.72277078 0.82806629 0.02047148\n",
      "  0.64363788 0.21914085 0.52295531 0.6723896 ]\n",
      " [0.76734611 0.87533403 0.74133477 0.82873898 0.96435556 0.89461233\n",
      "  0.12997345 0.5354543  0.86207213 0.15945344]\n",
      " [0.55280622 0.84369678 0.53948274 0.81877396 0.50700872 0.62984528\n",
      "  0.78223044 0.38934652 0.45224321 0.15744901]\n",
      " [0.60102035 0.59413686 0.03432381 0.48930851 0.62748618 0.17513154\n",
      "  0.08074925 0.32290574 0.97840461 0.70274761]\n",
      " [0.63478681 0.62411281 0.19912579 0.36875765 0.62581697 0.11557605\n",
      "  0.74042994 0.8832199  0.46564247 0.98381089]\n",
      " [0.88591411 0.79559235 0.86010848 0.38730204 0.83051656 0.54022686\n",
      "  0.89182494 0.08165969 0.87759216 0.43145605]]\n",
      "0.9959774403272686\n",
      "0.015738625085545466\n"
     ]
    }
   ],
   "source": [
    "#13. Create a 10x10 array with random values and find the minimum and maximum values \n",
    "my_array=np.random.random((10,10))\n",
    "max=my_array.max()\n",
    "min=my_array.min()\n",
    "print(my_array)\n",
    "print(max)\n",
    "print(min)"
   ]
  },
  {
   "cell_type": "code",
   "execution_count": 45,
   "metadata": {},
   "outputs": [
    {
     "name": "stdout",
     "output_type": "stream",
     "text": [
      "0.5123334119770526\n"
     ]
    }
   ],
   "source": [
    "#14. Create a random vector of size 30 and find the mean value\n",
    "my_array=np.random.random(30)\n",
    "mean=my_array.mean()\n",
    "print(mean)"
   ]
  },
  {
   "cell_type": "code",
   "execution_count": 54,
   "metadata": {},
   "outputs": [
    {
     "name": "stdout",
     "output_type": "stream",
     "text": [
      "[[1. 1. 1. 1. 1. 1. 1. 1. 1. 1.]\n",
      " [1. 1. 1. 1. 1. 1. 1. 1. 1. 1.]\n",
      " [1. 1. 1. 1. 1. 1. 1. 1. 1. 1.]\n",
      " [1. 1. 1. 1. 1. 1. 1. 1. 1. 1.]\n",
      " [1. 1. 1. 1. 1. 1. 1. 1. 1. 1.]\n",
      " [1. 1. 1. 1. 1. 1. 1. 1. 1. 1.]\n",
      " [1. 1. 1. 1. 1. 1. 1. 1. 1. 1.]\n",
      " [1. 1. 1. 1. 1. 1. 1. 1. 1. 1.]]\n",
      "[[1. 1. 1. 1. 1. 1. 1. 1. 1. 1.]\n",
      " [1. 0. 0. 0. 0. 0. 0. 0. 0. 1.]\n",
      " [1. 0. 0. 0. 0. 0. 0. 0. 0. 1.]\n",
      " [1. 0. 0. 0. 0. 0. 0. 0. 0. 1.]\n",
      " [1. 0. 0. 0. 0. 0. 0. 0. 0. 1.]\n",
      " [1. 0. 0. 0. 0. 0. 0. 0. 0. 1.]\n",
      " [1. 0. 0. 0. 0. 0. 0. 0. 0. 1.]\n",
      " [1. 1. 1. 1. 1. 1. 1. 1. 1. 1.]]\n"
     ]
    }
   ],
   "source": [
    "#15. Create a 2d array with 1 on the border and 0 inside\n",
    "my_array=np.ones((8,10))\n",
    "print(my_array)\n",
    "#my_array[1:7,1:9]=0\n",
    "my_array[1:-1,1:-1]=0\n",
    "print(my_array)\n"
   ]
  },
  {
   "cell_type": "code",
   "execution_count": 56,
   "metadata": {},
   "outputs": [
    {
     "name": "stdout",
     "output_type": "stream",
     "text": [
      "[[0.         0.         0.         0.         0.         0.\n",
      "  0.        ]\n",
      " [0.         0.1847523  0.26430474 0.58069574 0.35199073 0.50258669\n",
      "  0.        ]\n",
      " [0.         0.22616294 0.61724087 0.79233173 0.19447447 0.30910353\n",
      "  0.        ]\n",
      " [0.         0.42227934 0.39354761 0.5499145  0.15084602 0.18932655\n",
      "  0.        ]\n",
      " [0.         0.         0.         0.         0.         0.\n",
      "  0.        ]]\n"
     ]
    }
   ],
   "source": [
    "#16. How to add a border (filled with 0's) around an existing array?\n",
    "my_array=np.random.random((3,5))\n",
    "my_array=np.pad(my_array, pad_width=1, mode='constant', constant_values=0)\n",
    "print(my_array)"
   ]
  },
  {
   "cell_type": "code",
   "execution_count": 57,
   "metadata": {},
   "outputs": [
    {
     "name": "stdout",
     "output_type": "stream",
     "text": [
      "nan\n",
      "False\n",
      "False\n",
      "nan\n",
      "True\n",
      "False\n"
     ]
    }
   ],
   "source": [
    "#17. What is the result of the following expression? \n",
    "print(0 * np.nan)\n",
    "print(np.nan == np.nan)\n",
    "print(np.inf > np.nan)\n",
    "print(np.nan - np.nan)\n",
    "print(np.nan in set([np.nan]))\n",
    "print(0.3 == 3 * 0.1)"
   ]
  },
  {
   "cell_type": "code",
   "execution_count": 61,
   "metadata": {},
   "outputs": [
    {
     "data": {
      "text/plain": [
       "array([[0, 0, 0, 0, 0],\n",
       "       [1, 0, 0, 0, 0],\n",
       "       [0, 2, 0, 0, 0],\n",
       "       [0, 0, 3, 0, 0],\n",
       "       [0, 0, 0, 4, 0]])"
      ]
     },
     "execution_count": 61,
     "metadata": {},
     "output_type": "execute_result"
    }
   ],
   "source": [
    "#18. Create a 5x5 matrix with values 1,2,3,4 just below the diagonal\n",
    "my_matrix=np.diag(1+np.arange(4), k=-1)\n",
    "my_matrix"
   ]
  },
  {
   "cell_type": "code",
   "execution_count": 69,
   "metadata": {},
   "outputs": [
    {
     "data": {
      "text/plain": [
       "array([[1, 0, 1, 0, 1, 0, 1, 0],\n",
       "       [1, 0, 1, 0, 1, 0, 1, 0],\n",
       "       [0, 0, 0, 0, 0, 0, 0, 0],\n",
       "       [1, 0, 1, 0, 1, 0, 1, 0],\n",
       "       [0, 0, 0, 0, 0, 0, 0, 0],\n",
       "       [1, 0, 1, 0, 1, 0, 1, 0],\n",
       "       [0, 0, 0, 0, 0, 0, 0, 0],\n",
       "       [1, 0, 1, 0, 1, 0, 1, 0]])"
      ]
     },
     "execution_count": 69,
     "metadata": {},
     "output_type": "execute_result"
    }
   ],
   "source": [
    "#19. Create a 8x8 matrix and fill it with a checkerboard pattern\n",
    "my_array=np.zeros((8,8), dtype=int)\n",
    "my_array[1::2, ::2]=1\n",
    "my_array[:1:2, 0::2]=1\n",
    "my_array"
   ]
  },
  {
   "cell_type": "code",
   "execution_count": 70,
   "metadata": {},
   "outputs": [
    {
     "name": "stdout",
     "output_type": "stream",
     "text": [
      "(np.int64(1), np.int64(5), np.int64(4))\n"
     ]
    }
   ],
   "source": [
    "#20. Consider a (6,7,8) shape array, what is the index (x,y,z) of the 100th element?\n",
    "print(np.unravel_index(100,(6,7,8)))"
   ]
  },
  {
   "cell_type": "code",
   "execution_count": 74,
   "metadata": {},
   "outputs": [
    {
     "data": {
      "text/plain": [
       "array([[0, 1, 0, 1, 0, 1, 0, 1],\n",
       "       [1, 0, 1, 0, 1, 0, 1, 0],\n",
       "       [0, 1, 0, 1, 0, 1, 0, 1],\n",
       "       [1, 0, 1, 0, 1, 0, 1, 0],\n",
       "       [0, 1, 0, 1, 0, 1, 0, 1],\n",
       "       [1, 0, 1, 0, 1, 0, 1, 0],\n",
       "       [0, 1, 0, 1, 0, 1, 0, 1],\n",
       "       [1, 0, 1, 0, 1, 0, 1, 0]])"
      ]
     },
     "execution_count": 74,
     "metadata": {},
     "output_type": "execute_result"
    }
   ],
   "source": [
    "#21. Create a checkerboard 8x8 matrix using the tile function\n",
    "my_array=np.array([[0,1],[1,0]])\n",
    "my_matrix=np.tile(my_array,(4,4))\n",
    "my_matrix"
   ]
  },
  {
   "cell_type": "code",
   "execution_count": 78,
   "metadata": {},
   "outputs": [
    {
     "name": "stdout",
     "output_type": "stream",
     "text": [
      "[[-0.01717601  0.37804142  0.9657793   0.42471796  1.45168538]\n",
      " [ 0.62896914  0.25228754 -1.21897719 -1.36463836  1.42392628]\n",
      " [-1.31853463  1.10576111  0.09926821  0.48739883  1.38205922]\n",
      " [-0.47220746 -0.64069705  1.39409469 -1.04291064  0.12303719]\n",
      " [-0.77481892 -0.7597925  -1.63207737 -1.61626682  0.74107066]]\n",
      "-4.4408920985006264e-17\n",
      "1.0\n"
     ]
    }
   ],
   "source": [
    "#22. Normalize a 5x5 random matrix\n",
    "my_matrix=np.random.random((5,5))\n",
    "normal=(my_matrix-np.mean(my_matrix))/(np.std(my_matrix))\n",
    "print(normal)\n",
    "print(np.mean(normal))\n",
    "print(np.std(normal))"
   ]
  },
  {
   "cell_type": "code",
   "execution_count": 79,
   "metadata": {},
   "outputs": [
    {
     "data": {
      "text/plain": [
       "dtype([('r', 'u1', (1,)), ('g', 'u1', (1,)), ('b', 'u1', (1,)), ('a', 'u1', (1,))])"
      ]
     },
     "execution_count": 79,
     "metadata": {},
     "output_type": "execute_result"
    }
   ],
   "source": [
    "#23.Create a custom dtype that describes a color as four unsigned bytes\n",
    "color = np.dtype([(\"r\", np.ubyte, 1),\n",
    "                  (\"g\", np.ubyte, 1),\n",
    "                  (\"b\", np.ubyte, 1),\n",
    "                  (\"a\", np.ubyte, 1)])\n",
    "color"
   ]
  },
  {
   "cell_type": "code",
   "execution_count": 91,
   "metadata": {},
   "outputs": [
    {
     "name": "stdout",
     "output_type": "stream",
     "text": [
      "[[0.9318462  1.03655735]\n",
      " [0.98768751 0.73289404]\n",
      " [0.45695034 0.9623926 ]\n",
      " [1.06749359 0.58205572]\n",
      " [0.27620534 0.30297898]]\n",
      "[[0.9318462  1.03655735]\n",
      " [0.98768751 0.73289404]\n",
      " [0.45695034 0.9623926 ]\n",
      " [1.06749359 0.58205572]\n",
      " [0.27620534 0.30297898]]\n"
     ]
    }
   ],
   "source": [
    "#24.  Multiply a 5x3 matrix by a 3x2 matrix (real matrix product)\n",
    "array1=np.random.random((5,3))\n",
    "array2=np.random.random((3,2))\n",
    "\n",
    "print(np.dot( array1,array2))\n",
    "print(array1 @ array2)"
   ]
  },
  {
   "cell_type": "code",
   "execution_count": 95,
   "metadata": {},
   "outputs": [
    {
     "name": "stdout",
     "output_type": "stream",
     "text": [
      "[ 3 -5 15 13  0 -3]\n"
     ]
    }
   ],
   "source": [
    "#25.Given a 1D array, negate all elements which are between 3 and 8, in place.\n",
    "my_array=np.array([3,5,15,13,0,-3])\n",
    "# for index in range(len(my_array)):\n",
    "#     if 3 < my_array[index] <= 8:\n",
    "#         my_array[index] = -my_array[index]\n",
    "my_array[(my_array > 3) & (my_array <= 8)] *= -1\n",
    "\n",
    "print(my_array)"
   ]
  },
  {
   "cell_type": "code",
   "execution_count": 1,
   "metadata": {},
   "outputs": [
    {
     "name": "stdout",
     "output_type": "stream",
     "text": [
      "9\n",
      "10\n"
     ]
    }
   ],
   "source": [
    "#26. What is the output of the following script? \n",
    "print(sum(range(5),-1))\n",
    "from numpy import *\n",
    "print(sum(range(5),-1))"
   ]
  },
  {
   "cell_type": "code",
   "execution_count": 6,
   "metadata": {},
   "outputs": [
    {
     "ename": "ValueError",
     "evalue": "The truth value of an array with more than one element is ambiguous. Use a.any() or a.all()",
     "output_type": "error",
     "traceback": [
      "\u001b[1;31m---------------------------------------------------------------------------\u001b[0m",
      "\u001b[1;31mValueError\u001b[0m                                Traceback (most recent call last)",
      "Cell \u001b[1;32mIn[6], line 9\u001b[0m\n\u001b[0;32m      7\u001b[0m \u001b[38;5;241m1\u001b[39mj\u001b[38;5;241m*\u001b[39mZ\n\u001b[0;32m      8\u001b[0m Z\u001b[38;5;241m/\u001b[39m\u001b[38;5;241m1\u001b[39m\u001b[38;5;241m/\u001b[39m\u001b[38;5;241m1\u001b[39m\n\u001b[1;32m----> 9\u001b[0m Z\u001b[38;5;241m<\u001b[39mZ\u001b[38;5;241m>\u001b[39mZ\n",
      "\u001b[1;31mValueError\u001b[0m: The truth value of an array with more than one element is ambiguous. Use a.any() or a.all()"
     ]
    }
   ],
   "source": [
    "#27. Consider an integer vector Z, which of these expressions are legal?\n",
    "import numpy as np\n",
    "Z=np.arange(6)\n",
    "Z**Z\n",
    "2 << Z >> 2\n",
    "Z <- Z\n",
    "1j*Z\n",
    "Z/1/1\n",
    "Z<Z>Z"
   ]
  },
  {
   "cell_type": "code",
   "execution_count": 10,
   "metadata": {},
   "outputs": [
    {
     "name": "stdout",
     "output_type": "stream",
     "text": [
      "nan\n",
      "0\n",
      "[-9.22337204e+18]\n"
     ]
    },
    {
     "name": "stderr",
     "output_type": "stream",
     "text": [
      "C:\\Users\\hp\\AppData\\Local\\Temp\\ipykernel_91284\\3627246184.py:2: RuntimeWarning: invalid value encountered in divide\n",
      "  print(np.array(0) / np.array(0))\n",
      "C:\\Users\\hp\\AppData\\Local\\Temp\\ipykernel_91284\\3627246184.py:3: RuntimeWarning: divide by zero encountered in floor_divide\n",
      "  print(np.array(0) // np.array(0))\n",
      "C:\\Users\\hp\\AppData\\Local\\Temp\\ipykernel_91284\\3627246184.py:4: RuntimeWarning: invalid value encountered in cast\n",
      "  print(np.array([np.nan]).astype(int).astype(float))\n"
     ]
    }
   ],
   "source": [
    "#28. What are the result of the following expressions? \n",
    "print(np.array(0) / np.array(0))\n",
    "print(np.array(0) // np.array(0))\n",
    "print(np.array([np.nan]).astype(int).astype(float))"
   ]
  },
  {
   "cell_type": "code",
   "execution_count": 13,
   "metadata": {},
   "outputs": [
    {
     "name": "stdout",
     "output_type": "stream",
     "text": [
      "[-1.65353027  8.03653231 -1.90679298 -4.14385168 -0.33835656 -2.48832471\n",
      " -0.92827606  7.44753125]\n",
      "[-2.  9. -2. -5. -1. -3. -1.  8.]\n"
     ]
    }
   ],
   "source": [
    "#29. How to round away from zero a float array ?\n",
    "my_array = np.random.uniform(-5, 10, 8)\n",
    "print(my_array)\n",
    "print (np.copysign(np.ceil(np.abs(my_array)), my_array))"
   ]
  },
  {
   "cell_type": "code",
   "execution_count": 19,
   "metadata": {},
   "outputs": [
    {
     "name": "stdout",
     "output_type": "stream",
     "text": [
      "[ 7  9  6  7 -2  7 -5  7]\n",
      "[ 7 -3  4 -3 -5  8]\n",
      "[-5  7]\n"
     ]
    }
   ],
   "source": [
    "#30. How to find common values between two arrays? \n",
    "array1=np.random.randint(-5,10,8)\n",
    "array2=np.random.randint(-8,10,6)\n",
    "print(array1)\n",
    "print(array2)\n",
    "print(np.intersect1d(array1, array2))"
   ]
  }
 ],
 "metadata": {
  "kernelspec": {
   "display_name": "Python 3",
   "language": "python",
   "name": "python3"
  },
  "language_info": {
   "codemirror_mode": {
    "name": "ipython",
    "version": 3
   },
   "file_extension": ".py",
   "mimetype": "text/x-python",
   "name": "python",
   "nbconvert_exporter": "python",
   "pygments_lexer": "ipython3",
   "version": "3.12.8"
  }
 },
 "nbformat": 4,
 "nbformat_minor": 2
}
