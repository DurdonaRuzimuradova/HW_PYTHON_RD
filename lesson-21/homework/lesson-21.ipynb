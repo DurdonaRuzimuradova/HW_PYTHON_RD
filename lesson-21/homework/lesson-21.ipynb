{
 "cells": [
  {
   "cell_type": "markdown",
   "metadata": {},
   "source": [
    "Homework 1"
   ]
  },
  {
   "cell_type": "code",
   "execution_count": 2,
   "metadata": {},
   "outputs": [
    {
     "name": "stdout",
     "output_type": "stream",
     "text": [
      "  first_name  age           City\n",
      "0      Alice   25       New York\n",
      "1        Bob   30  San Francisco\n",
      "2    Charlie   35    Los Angeles\n",
      "3      David   40        Chicago\n"
     ]
    }
   ],
   "source": [
    "import pandas as pd\n",
    "#Task1\n",
    "data={\"First Name\": ['Alice', 'Bob', 'Charlie', 'David'],\n",
    "      \"Age\":[25, 30, 35, 40],\n",
    "      \"City\": ['New York', 'San Francisco', 'Los Angeles', 'Chicago']}\n",
    "df=pd.DataFrame(data)\n",
    "df = df.rename(columns={\"First Name\":\"first_name\", \"Age\":\"age\"})\n",
    "print(df)"
   ]
  },
  {
   "cell_type": "code",
   "execution_count": 3,
   "metadata": {},
   "outputs": [
    {
     "data": {
      "text/html": [
       "<div>\n",
       "<style scoped>\n",
       "    .dataframe tbody tr th:only-of-type {\n",
       "        vertical-align: middle;\n",
       "    }\n",
       "\n",
       "    .dataframe tbody tr th {\n",
       "        vertical-align: top;\n",
       "    }\n",
       "\n",
       "    .dataframe thead th {\n",
       "        text-align: right;\n",
       "    }\n",
       "</style>\n",
       "<table border=\"1\" class=\"dataframe\">\n",
       "  <thead>\n",
       "    <tr style=\"text-align: right;\">\n",
       "      <th></th>\n",
       "      <th>first_name</th>\n",
       "      <th>age</th>\n",
       "      <th>City</th>\n",
       "    </tr>\n",
       "  </thead>\n",
       "  <tbody>\n",
       "    <tr>\n",
       "      <th>0</th>\n",
       "      <td>Alice</td>\n",
       "      <td>25</td>\n",
       "      <td>New York</td>\n",
       "    </tr>\n",
       "    <tr>\n",
       "      <th>1</th>\n",
       "      <td>Bob</td>\n",
       "      <td>30</td>\n",
       "      <td>San Francisco</td>\n",
       "    </tr>\n",
       "    <tr>\n",
       "      <th>2</th>\n",
       "      <td>Charlie</td>\n",
       "      <td>35</td>\n",
       "      <td>Los Angeles</td>\n",
       "    </tr>\n",
       "  </tbody>\n",
       "</table>\n",
       "</div>"
      ],
      "text/plain": [
       "  first_name  age           City\n",
       "0      Alice   25       New York\n",
       "1        Bob   30  San Francisco\n",
       "2    Charlie   35    Los Angeles"
      ]
     },
     "execution_count": 3,
     "metadata": {},
     "output_type": "execute_result"
    }
   ],
   "source": [
    "#Task2\n",
    "df.head(3)"
   ]
  },
  {
   "cell_type": "code",
   "execution_count": 4,
   "metadata": {},
   "outputs": [
    {
     "data": {
      "text/plain": [
       "np.float64(32.5)"
      ]
     },
     "execution_count": 4,
     "metadata": {},
     "output_type": "execute_result"
    }
   ],
   "source": [
    "#Task3\n",
    "df['age'].mean()\n"
   ]
  },
  {
   "cell_type": "code",
   "execution_count": 5,
   "metadata": {},
   "outputs": [
    {
     "name": "stdout",
     "output_type": "stream",
     "text": [
      "  first_name           City\n",
      "0      Alice       New York\n",
      "1        Bob  San Francisco\n",
      "2    Charlie    Los Angeles\n",
      "3      David        Chicago\n"
     ]
    }
   ],
   "source": [
    "#Task4.\n",
    "df1=df[['first_name', 'City']]\n",
    "print(df1)"
   ]
  },
  {
   "cell_type": "code",
   "execution_count": 8,
   "metadata": {},
   "outputs": [
    {
     "name": "stdout",
     "output_type": "stream",
     "text": [
      "  first_name  age           City  Salary\n",
      "0      Alice   25       New York      34\n",
      "1        Bob   30  San Francisco      19\n",
      "2    Charlie   35    Los Angeles     193\n",
      "3      David   40        Chicago      83\n"
     ]
    }
   ],
   "source": [
    "import numpy as np\n",
    "#Task5.\n",
    "df['Salary']=np.random.randint(0,200,4)\n",
    "print(df)"
   ]
  },
  {
   "cell_type": "code",
   "execution_count": 9,
   "metadata": {},
   "outputs": [
    {
     "data": {
      "text/html": [
       "<div>\n",
       "<style scoped>\n",
       "    .dataframe tbody tr th:only-of-type {\n",
       "        vertical-align: middle;\n",
       "    }\n",
       "\n",
       "    .dataframe tbody tr th {\n",
       "        vertical-align: top;\n",
       "    }\n",
       "\n",
       "    .dataframe thead th {\n",
       "        text-align: right;\n",
       "    }\n",
       "</style>\n",
       "<table border=\"1\" class=\"dataframe\">\n",
       "  <thead>\n",
       "    <tr style=\"text-align: right;\">\n",
       "      <th></th>\n",
       "      <th>age</th>\n",
       "      <th>Salary</th>\n",
       "    </tr>\n",
       "  </thead>\n",
       "  <tbody>\n",
       "    <tr>\n",
       "      <th>count</th>\n",
       "      <td>4.000000</td>\n",
       "      <td>4.000000</td>\n",
       "    </tr>\n",
       "    <tr>\n",
       "      <th>mean</th>\n",
       "      <td>32.500000</td>\n",
       "      <td>82.250000</td>\n",
       "    </tr>\n",
       "    <tr>\n",
       "      <th>std</th>\n",
       "      <td>6.454972</td>\n",
       "      <td>78.728965</td>\n",
       "    </tr>\n",
       "    <tr>\n",
       "      <th>min</th>\n",
       "      <td>25.000000</td>\n",
       "      <td>19.000000</td>\n",
       "    </tr>\n",
       "    <tr>\n",
       "      <th>25%</th>\n",
       "      <td>28.750000</td>\n",
       "      <td>30.250000</td>\n",
       "    </tr>\n",
       "    <tr>\n",
       "      <th>50%</th>\n",
       "      <td>32.500000</td>\n",
       "      <td>58.500000</td>\n",
       "    </tr>\n",
       "    <tr>\n",
       "      <th>75%</th>\n",
       "      <td>36.250000</td>\n",
       "      <td>110.500000</td>\n",
       "    </tr>\n",
       "    <tr>\n",
       "      <th>max</th>\n",
       "      <td>40.000000</td>\n",
       "      <td>193.000000</td>\n",
       "    </tr>\n",
       "  </tbody>\n",
       "</table>\n",
       "</div>"
      ],
      "text/plain": [
       "             age      Salary\n",
       "count   4.000000    4.000000\n",
       "mean   32.500000   82.250000\n",
       "std     6.454972   78.728965\n",
       "min    25.000000   19.000000\n",
       "25%    28.750000   30.250000\n",
       "50%    32.500000   58.500000\n",
       "75%    36.250000  110.500000\n",
       "max    40.000000  193.000000"
      ]
     },
     "execution_count": 9,
     "metadata": {},
     "output_type": "execute_result"
    }
   ],
   "source": [
    "#Task6.\n",
    "df.describe()"
   ]
  },
  {
   "cell_type": "markdown",
   "metadata": {},
   "source": [
    "Homework2"
   ]
  },
  {
   "cell_type": "code",
   "execution_count": 15,
   "metadata": {},
   "outputs": [
    {
     "data": {
      "text/html": [
       "<div>\n",
       "<style scoped>\n",
       "    .dataframe tbody tr th:only-of-type {\n",
       "        vertical-align: middle;\n",
       "    }\n",
       "\n",
       "    .dataframe tbody tr th {\n",
       "        vertical-align: top;\n",
       "    }\n",
       "\n",
       "    .dataframe thead th {\n",
       "        text-align: right;\n",
       "    }\n",
       "</style>\n",
       "<table border=\"1\" class=\"dataframe\">\n",
       "  <thead>\n",
       "    <tr style=\"text-align: right;\">\n",
       "      <th></th>\n",
       "      <th>Month</th>\n",
       "      <th>Sales</th>\n",
       "      <th>Expenses</th>\n",
       "    </tr>\n",
       "  </thead>\n",
       "  <tbody>\n",
       "    <tr>\n",
       "      <th>0</th>\n",
       "      <td>Jan</td>\n",
       "      <td>5000</td>\n",
       "      <td>3000</td>\n",
       "    </tr>\n",
       "    <tr>\n",
       "      <th>1</th>\n",
       "      <td>Feb</td>\n",
       "      <td>6000</td>\n",
       "      <td>3500</td>\n",
       "    </tr>\n",
       "    <tr>\n",
       "      <th>2</th>\n",
       "      <td>Mar</td>\n",
       "      <td>7500</td>\n",
       "      <td>4000</td>\n",
       "    </tr>\n",
       "    <tr>\n",
       "      <th>3</th>\n",
       "      <td>Apr</td>\n",
       "      <td>8000</td>\n",
       "      <td>4500</td>\n",
       "    </tr>\n",
       "  </tbody>\n",
       "</table>\n",
       "</div>"
      ],
      "text/plain": [
       "  Month  Sales  Expenses\n",
       "0   Jan   5000      3000\n",
       "1   Feb   6000      3500\n",
       "2   Mar   7500      4000\n",
       "3   Apr   8000      4500"
      ]
     },
     "execution_count": 15,
     "metadata": {},
     "output_type": "execute_result"
    }
   ],
   "source": [
    "import pandas as pd\n",
    "#Task1\n",
    "month=['Jan','Feb', 'Mar', 'Apr']\n",
    "sales=[5000, 6000, 7500, 8000]\n",
    "expenses=[3000, 3500, 4000, 4500]\n",
    "\n",
    "data=pd.DataFrame({'Month':month, 'Sales':sales, 'Expenses':expenses})\n",
    "data"
   ]
  },
  {
   "cell_type": "code",
   "execution_count": 12,
   "metadata": {},
   "outputs": [
    {
     "name": "stdout",
     "output_type": "stream",
     "text": [
      "4500\n",
      "8000\n"
     ]
    }
   ],
   "source": [
    "#Task2\n",
    "max_exp=data['Expenses'].max()\n",
    "max_sales=data['Sales'].max()\n",
    "print(max_exp)\n",
    "print(max_sales)\n"
   ]
  },
  {
   "cell_type": "code",
   "execution_count": 13,
   "metadata": {},
   "outputs": [
    {
     "name": "stdout",
     "output_type": "stream",
     "text": [
      "3000\n",
      "5000\n"
     ]
    }
   ],
   "source": [
    "#Task3\n",
    "min_exp=data['Expenses'].min()\n",
    "min_sales=data['Sales'].min()\n",
    "print(min_exp)\n",
    "print(min_sales)"
   ]
  },
  {
   "cell_type": "code",
   "execution_count": 16,
   "metadata": {},
   "outputs": [
    {
     "name": "stdout",
     "output_type": "stream",
     "text": [
      "3750.0\n",
      "6625.0\n"
     ]
    }
   ],
   "source": [
    "#Task4\n",
    "avg_exp=data['Expenses'].mean()\n",
    "avg_sales=data['Sales'].mean()\n",
    "print(avg_exp)\n",
    "print(avg_sales)"
   ]
  },
  {
   "cell_type": "code",
   "execution_count": 20,
   "metadata": {},
   "outputs": [
    {
     "name": "stdout",
     "output_type": "stream",
     "text": [
      "   BusinessEntityID  SalesYear  CurrentQuota\n",
      "0               275       2005      367000.0\n",
      "1               275       2005      556000.0\n",
      "2               275       2006      502000.0\n",
      "3               275       2006      550000.0\n",
      "4               275       2006     1429000.0\n",
      "5               275       2006     1324000.0\n",
      "   BusinessEntityID  SalesYear  CurrentQuota  lagCurrentData\n",
      "0               275       2005      367000.0             0.0\n",
      "1               275       2005      556000.0        367000.0\n",
      "2               275       2006      502000.0        556000.0\n",
      "3               275       2006      550000.0        502000.0\n",
      "4               275       2006     1429000.0        550000.0\n",
      "5               275       2006     1324000.0       1429000.0\n"
     ]
    }
   ],
   "source": [
    "#1. T-SQL Query | [Finding Previous Value Puzzle] – Write a query which will extract the previous value from the currentQuota for each row.\n",
    "import pandas as pd\n",
    "import sqlalchemy as sa\n",
    "\n",
    "connection_string = 'mssql+pyodbc://DESKTOP-75UE17H\\\\SQLEXPRESS/AdventureWorks2022?driver=ODBC+Driver+17+for+SQL+Server'\n",
    "engine = sa.create_engine(connection_string)\n",
    "con = engine.connect()\n",
    "\n",
    "df = pd.read_sql(sa.text('select * from lag'), con=con)\n",
    "print(df)\n",
    "df['lagCurrentData'] = df['CurrentQuota'].shift(1).fillna(0)\n",
    "print(df)"
   ]
  },
  {
   "cell_type": "code",
   "execution_count": 22,
   "metadata": {},
   "outputs": [
    {
     "name": "stdout",
     "output_type": "stream",
     "text": [
      "   BusinessEntityID  SalesYear  CurrentQuota\n",
      "0               275       2005      367000.0\n",
      "1               275       2005      556000.0\n",
      "2               275       2006      502000.0\n",
      "3               275       2006      550000.0\n",
      "4               275       2006     1429000.0\n",
      "5               275       2006     1324000.0\n",
      "   BusinessEntityID  SalesYear  CurrentQuota  NextCurrentQuota\n",
      "0               275       2005      367000.0          556000.0\n",
      "1               275       2005      556000.0          502000.0\n",
      "2               275       2006      502000.0          550000.0\n",
      "3               275       2006      550000.0         1429000.0\n",
      "4               275       2006     1429000.0         1324000.0\n",
      "5               275       2006     1324000.0               0.0\n"
     ]
    }
   ],
   "source": [
    "#2.T-SQL Query | [Finding Next Value Puzzle] – Write a query which will extract the next value from the currentQuota for each row\n",
    "import pandas as pd\n",
    "data = {\n",
    "    'BusinessEntityID': [275, 275, 275, 275, 275, 275],\n",
    "    'SalesYear': [2005, 2005, 2006, 2006, 2006, 2006],\n",
    "    'CurrentQuota': [367000.00, 556000.00, 502000.00, 550000.00, 1429000.00, 1324000.00]\n",
    "}\n",
    "\n",
    "df1 = pd.DataFrame(data)\n",
    "print(df1)\n",
    "df1['NextCurrentQuota']=df1['CurrentQuota'].shift(-1).fillna(0)\n",
    "print(df1)"
   ]
  },
  {
   "cell_type": "code",
   "execution_count": 34,
   "metadata": {},
   "outputs": [
    {
     "name": "stdout",
     "output_type": "stream",
     "text": [
      "   EmpId  EmpName  BirthDate\n",
      "0      1    Pawan 1983-12-04\n",
      "1      2     Zuzu 1986-11-28\n",
      "2      3  Parveen 1977-05-07\n",
      "3      4   Mahesh 1983-01-13\n",
      "4      5   Ramesh 1983-05-09\n"
     ]
    },
    {
     "data": {
      "text/html": [
       "<div>\n",
       "<style scoped>\n",
       "    .dataframe tbody tr th:only-of-type {\n",
       "        vertical-align: middle;\n",
       "    }\n",
       "\n",
       "    .dataframe tbody tr th {\n",
       "        vertical-align: top;\n",
       "    }\n",
       "\n",
       "    .dataframe thead th {\n",
       "        text-align: right;\n",
       "    }\n",
       "</style>\n",
       "<table border=\"1\" class=\"dataframe\">\n",
       "  <thead>\n",
       "    <tr style=\"text-align: right;\">\n",
       "      <th></th>\n",
       "      <th>EmpId</th>\n",
       "      <th>EmpName</th>\n",
       "      <th>BirthDate</th>\n",
       "    </tr>\n",
       "  </thead>\n",
       "  <tbody>\n",
       "    <tr>\n",
       "      <th>2</th>\n",
       "      <td>3</td>\n",
       "      <td>Parveen</td>\n",
       "      <td>1977-05-07</td>\n",
       "    </tr>\n",
       "    <tr>\n",
       "      <th>4</th>\n",
       "      <td>5</td>\n",
       "      <td>Ramesh</td>\n",
       "      <td>1983-05-09</td>\n",
       "    </tr>\n",
       "  </tbody>\n",
       "</table>\n",
       "</div>"
      ],
      "text/plain": [
       "   EmpId  EmpName  BirthDate\n",
       "2      3  Parveen 1977-05-07\n",
       "4      5   Ramesh 1983-05-09"
      ]
     },
     "execution_count": 34,
     "metadata": {},
     "output_type": "execute_result"
    }
   ],
   "source": [
    "#3. T-SQL Query | [The Birth Day Puzzle] – Write a query which will find the Date \n",
    "# of Birth of employees whose birthdays lies between May 7 and May 15\n",
    "data={\n",
    "    'EmpId':[1, 2, 3, 4, 5], \n",
    "    'EmpName': ['Pawan', 'Zuzu', 'Parveen', 'Mahesh', 'Ramesh'],\n",
    "    'BirthDate':pd.to_datetime(['1983-12-04', '1986-11-28', '1977-05-07', '1983-01-13', '1983-05-09'])\n",
    "        }\n",
    "EmpBirth=pd.DataFrame(data)\n",
    "print(EmpBirth)\n",
    "result=EmpBirth[(7<=EmpBirth.BirthDate.dt.day) & (EmpBirth.BirthDate.dt.day<=15) &(EmpBirth.BirthDate.dt.month==5)]\n",
    "result"
   ]
  },
  {
   "cell_type": "code",
   "execution_count": 63,
   "metadata": {},
   "outputs": [
    {
     "name": "stdout",
     "output_type": "stream",
     "text": [
      "  MName    AName   Roles\n",
      "0     A  Amitabh   Actor\n",
      "1     A    Vinod  Villan\n",
      "2     B  Amitabh   Actor\n",
      "3     B    Vinod   Actor\n",
      "4     D  Amitabh   Actor\n",
      "5     E    Vinod   Actor\n",
      "  MName AName_Vinod Roles_Vinod AName_Amitabh Roles_Amitabh\n",
      "0     B       Vinod       Actor       Amitabh         Actor\n",
      "                               MName    AName  Roles\n",
      "0  0    B\n",
      "Name: MName, dtype: object    Vinod  Actor\n",
      "1  0    B\n",
      "Name: MName, dtype: object  Amitabh  Actor\n"
     ]
    }
   ],
   "source": [
    "#4. T-SQL Query | [Movie Puzzle] – Write a query which will gets the movie details where \n",
    "# Mr. Amitabh and Mr. Vinod acted together and their role is actor.\n",
    "import pandas as pd\n",
    "\n",
    "data = {\n",
    "    'MName': ['A', 'A', 'B', 'B', 'D', 'E'],\n",
    "    'AName': ['Amitabh', 'Vinod', 'Amitabh', 'Vinod', 'Amitabh', 'Vinod'],\n",
    "    'Roles': ['Actor', 'Villan', 'Actor', 'Actor', 'Actor', 'Actor']\n",
    "}\n",
    "\n",
    "movie_df = pd.DataFrame(data)\n",
    "print(movie_df)\n",
    "\n",
    "df1=movie_df[(movie_df.AName=='Vinod')&(movie_df.Roles=='Actor')]\n",
    "df2=movie_df[(movie_df.AName=='Amitabh')&(movie_df.Roles=='Actor')]\n",
    "result1=pd.merge(df1, df2, on='MName', suffixes=(\"_Vinod\", \"_Amitabh\"))\n",
    "print(result1)\n",
    "result = pd.DataFrame({\n",
    "    'MName': [result1['MName'],result1['MName']],\n",
    "    'AName': ['Vinod', 'Amitabh'],  \n",
    "    'Roles': ['Actor', 'Actor']     \n",
    "})\n",
    "\n",
    "print(result)\n",
    "\n"
   ]
  },
  {
   "cell_type": "code",
   "execution_count": 65,
   "metadata": {},
   "outputs": [
    {
     "name": "stdout",
     "output_type": "stream",
     "text": [
      "   ID  Name Typed\n",
      "0   1     P  None\n",
      "1   1  None     Q\n"
     ]
    },
    {
     "data": {
      "text/html": [
       "<div>\n",
       "<style scoped>\n",
       "    .dataframe tbody tr th:only-of-type {\n",
       "        vertical-align: middle;\n",
       "    }\n",
       "\n",
       "    .dataframe tbody tr th {\n",
       "        vertical-align: top;\n",
       "    }\n",
       "\n",
       "    .dataframe thead th {\n",
       "        text-align: right;\n",
       "    }\n",
       "</style>\n",
       "<table border=\"1\" class=\"dataframe\">\n",
       "  <thead>\n",
       "    <tr style=\"text-align: right;\">\n",
       "      <th></th>\n",
       "      <th>ID</th>\n",
       "      <th>Name</th>\n",
       "      <th>Typed</th>\n",
       "    </tr>\n",
       "  </thead>\n",
       "  <tbody>\n",
       "    <tr>\n",
       "      <th>0</th>\n",
       "      <td>1</td>\n",
       "      <td>P</td>\n",
       "      <td>Q</td>\n",
       "    </tr>\n",
       "  </tbody>\n",
       "</table>\n",
       "</div>"
      ],
      "text/plain": [
       "   ID Name Typed\n",
       "0   1    P     Q"
      ]
     },
     "execution_count": 65,
     "metadata": {},
     "output_type": "execute_result"
    }
   ],
   "source": [
    "#5. T-SQL Query | [Movie Puzzle] – Write a query which will remove the unwanted null values from the table. Please check sample input and expected output for details.\n",
    "import pandas as pd\n",
    "data={\n",
    "    'ID':[1,1],\n",
    "    'Name':['P', None],\n",
    "    'Typed':[None, 'Q']\n",
    "}\n",
    "\n",
    "df=pd.DataFrame(data)\n",
    "print(df)\n",
    "filtered_df=df.fillna(\"\").groupby('ID', as_index=False).max()\n",
    "filtered_df"
   ]
  }
 ],
 "metadata": {
  "kernelspec": {
   "display_name": "Python 3",
   "language": "python",
   "name": "python3"
  },
  "language_info": {
   "codemirror_mode": {
    "name": "ipython",
    "version": 3
   },
   "file_extension": ".py",
   "mimetype": "text/x-python",
   "name": "python",
   "nbconvert_exporter": "python",
   "pygments_lexer": "ipython3",
   "version": "3.12.8"
  }
 },
 "nbformat": 4,
 "nbformat_minor": 2
}
